{
 "cells": [
  {
   "cell_type": "markdown",
   "metadata": {
    "id": "s26AyhYpWDq5"
   },
   "source": [
    "## The Uniform Distribution"
   ]
  },
  {
   "cell_type": "markdown",
   "metadata": {
    "id": "zpBI2awMW6Oc"
   },
   "source": [
    "Load libraries. We use the scipy.stats library."
   ]
  },
  {
   "cell_type": "markdown",
   "metadata": {
    "id": "oByCe-f4WabL"
   },
   "source": [
    "Use scipy library to create a randam uniform distribution data (100000 numbers from 0 to 10)"
   ]
  },
  {
   "cell_type": "markdown",
   "metadata": {
    "id": "VDFCdnvxXKBO"
   },
   "source": [
    "Plot the following density distribution.\n",
    "You can use figsize=(9,9), xlim=(-1,11)"
   ]
  },
  {
   "cell_type": "code",
   "execution_count": 93,
   "metadata": {
    "colab": {
     "base_uri": "https://localhost:8080/",
     "height": 537
    },
    "executionInfo": {
     "elapsed": 6133,
     "status": "ok",
     "timestamp": 1643988578835,
     "user": {
      "displayName": "Xiaoli Huan",
      "photoUrl": "https://lh3.googleusercontent.com/a/default-user=s64",
      "userId": "12700089891795799701"
     },
     "user_tz": 360
    },
    "id": "sv6O_1QTWDq8",
    "outputId": "5dca24b2-a70e-4f83-ff6e-aec088124646"
   },
   "outputs": [
    {
     "data": {
      "image/png": "[encoded data removed]",
      "text/plain": [
       "<Figure size 900x900 with 1 Axes>"
      ]
     },
     "metadata": {},
     "output_type": "display_data"
    }
   ],
   "source": [
    "import numpy as np\n",
    "import matplotlib.pyplot as plt\n",
    "from scipy.stats import uniform\n",
    "\n",
    "dist = uniform(0, 10)\n",
    "\n",
    "x = dist.rvs(1000000)\n",
    "\n",
    "plt.figure(figsize=(9, 9)) \n",
    "plt.hist(x, bins=1000, density=True)  \n",
    "plt.xlim(-1, 11) \n",
    "plt.show()\n"
   ]
  },
  {
   "cell_type": "code",
   "execution_count": null,
   "metadata": {},
   "outputs": [],
   "source": []
  },
  {
   "cell_type": "code",
   "execution_count": null,
   "metadata": {},
   "outputs": [],
   "source": []
  },
  {
   "cell_type": "markdown",
   "metadata": {
    "id": "fTrcokY6WDq9"
   },
   "source": [
    "\n",
    "\n",
    "Check scipy libraries and use useful functions. "
   ]
  },
  {
   "cell_type": "markdown",
   "metadata": {
    "id": "zksEWTRzYZRW"
   },
   "source": [
    "cdf (cumulative distribution function) gives you the area under the distribution's density curve to the left of a certain value on the x axis. Calculate cdf with x axis from 0 to 2.5. "
   ]
  },
  {
   "cell_type": "code",
   "execution_count": 29,
   "metadata": {},
   "outputs": [
    {
     "name": "stdout",
     "output_type": "stream",
     "text": [
      "0.25\n"
     ]
    }
   ],
   "source": [
    "import numpy as np\n",
    "from scipy.stats import uniform\n",
    "\n",
    "\n",
    "dist = uniform(0, 10)\n",
    "\n",
    "\n",
    "cdf = dist.cdf(2.5)\n",
    "\n",
    "print(cdf)\n"
   ]
  },
  {
   "cell_type": "markdown",
   "metadata": {
    "id": "YSH29ZK1WDq_"
   },
   "source": [
    "ppf() is the inverse of cdf(): it returns the x axis cutoff value (quantile) associated with a given probability. Caculate the cutoff value for propabality with 40%."
   ]
  },
  {
   "cell_type": "code",
   "execution_count": 30,
   "metadata": {},
   "outputs": [
    {
     "name": "stdout",
     "output_type": "stream",
     "text": [
      "4.0\n"
     ]
    }
   ],
   "source": [
    "import numpy as np\n",
    "from scipy.stats import uniform\n",
    "\n",
    "dist = uniform(0, 10)\n",
    "\n",
    "\n",
    "cutoff = dist.ppf(0.4)\n",
    "\n",
    "print(cutoff)\n"
   ]
  },
  {
   "cell_type": "markdown",
   "metadata": {
    "id": "TCqkfCI5WDrA"
   },
   "source": [
    "Demonstrate for uniform distribution, x values within the range will have the same probability desity.  x values outside the range have a probability density of 0. The output is similar as the following."
   ]
  },
  {
   "cell_type": "code",
   "execution_count": 37,
   "metadata": {},
   "outputs": [
    {
     "name": "stdout",
     "output_type": "stream",
     "text": [
      "Density at x value -1: 0.0\n",
      "Density at x value 2: 0.1\n",
      "Density at x value 5: 0.1\n",
      "Density at x value 8: 0.1\n",
      "Density at x value 11: 0.0\n"
     ]
    }
   ],
   "source": [
    "import numpy as np\n",
    "from scipy.stats import uniform\n",
    "\n",
    "\n",
    "dist = uniform(0, 10)\n",
    "\n",
    "\n",
    "x_values = [-1, 2, 5, 8, 11]\n",
    "\n",
    "for x in x_values :\n",
    "    density = dist.pdf(x)\n",
    "    print(f\"Density at x value {x}: {density:.1f}\")\n"
   ]
  },
  {
   "cell_type": "markdown",
   "metadata": {
    "id": "eDG_C5DLWDrA"
   },
   "source": [
    "Probability distribution functions in scipy also support median(), mean(), var() and std()."
   ]
  },
  {
   "cell_type": "markdown",
   "metadata": {
    "id": "dzU_xIDZWDrD"
   },
   "source": [
    "## The Normal Distribution"
   ]
  },
  {
   "cell_type": "markdown",
   "metadata": {
    "id": "4tlmrT-6WDrE"
   },
   "source": [
    "\n",
    "Use scipy's norm to have normal distribution (see the graph below) .  The normal distribution has default vaues of  mean of 0 and standard deviation of 1. Investigate what percentage of data generated by a default normal distribution is below -1. What percentage of data generated is above 1 and what percentage lies between -1 and 1. Print the three percentages. The output is similar as the following. "
   ]
  },
  {
   "cell_type": "code",
   "execution_count": 67,
   "metadata": {},
   "outputs": [
    {
     "name": "stdout",
     "output_type": "stream",
     "text": [
      "Percentage of data below -1: 15.87%\n",
      "Percentage of data above 1: 15.87%\n",
      "Percentage of data between -1 and 1: 68.27%\n"
     ]
    }
   ],
   "source": [
    "from scipy.stats import norm\n",
    "\n",
    "# Set the parameters for the normal distribution\n",
    "mean = 0\n",
    "std_dev = 1\n",
    "\n",
    "# Create the normal distribution object\n",
    "dist = norm(loc=mean, scale=std_dev)\n",
    "\n",
    "# Calculate the percentage of data below -1\n",
    "percent_below_minus_one = dist.cdf(-1) * 100\n",
    "\n",
    "# Calculate the percentage of data above 1\n",
    "percent_above_one = (1 - dist.cdf(1)) * 100\n",
    "\n",
    "# Calculate the percentage of data between -1 and 1\n",
    "percent_between_minus_one_and_one = (dist.cdf(1) - dist.cdf(-1)) * 100\n",
    "\n",
    "# Print the percentages\n",
    "print(f\"Percentage of data below -1: {percent_below_minus_one:.2f}%\")\n",
    "print(f\"Percentage of data above 1: {percent_above_one:.2f}%\")\n",
    "print(f\"Percentage of data between -1 and 1: {percent_between_minus_one_and_one:.2f}%\")\n"
   ]
  },
  {
   "cell_type": "code",
   "execution_count": 69,
   "metadata": {},
   "outputs": [
    {
     "name": "stdout",
     "output_type": "stream",
     "text": [
      "Percentage below -1: 0.15865525393145707 %\n",
      "Percentage above 1: 0.15865525393145707 %\n",
      "Percentage between -1 and 1: 0.6826894921370859 %\n"
     ]
    }
   ],
   "source": [
    "import numpy as np\n",
    "from scipy.stats import norm\n",
    "\n",
    "# Create a normal distribution object\n",
    "dist = norm(0, 1)\n",
    "\n",
    "\n",
    "\n",
    "\n",
    "below_1 = (dist.cdf(-1)) \n",
    "\n",
    "above_1 = (1-dist.cdf(1)) \n",
    "\n",
    "\n",
    "between_1_and_1 = (dist.cdf(1) - dist.cdf(-1)) \n",
    "\n",
    "print(\"Percentage below -1:\", below_1, \"%\")\n",
    "print(\"Percentage above 1:\", above_1, \"%\")\n",
    "print(\"Percentage between -1 and 1:\", between_1_and_1, \"%\")\n"
   ]
  },
  {
   "cell_type": "markdown",
   "metadata": {
    "id": "wpzcmComWDrE"
   },
   "source": [
    "Plotting is not required. The codes will be included in the solution. The image below shows the bell shape normal distribution.  "
   ]
  },
  {
   "cell_type": "code",
   "execution_count": null,
   "metadata": {
    "colab": {
     "base_uri": "https://localhost:8080/",
     "height": 537
    },
    "executionInfo": {
     "elapsed": 503,
     "status": "ok",
     "timestamp": 1643988579586,
     "user": {
      "displayName": "Xiaoli Huan",
      "photoUrl": "https://lh3.googleusercontent.com/a/default-user=s64",
      "userId": "12700089891795799701"
     },
     "user_tz": 360
    },
    "id": "aAhigYlmWDrE",
    "outputId": "fde3c1f4-4d84-4182-bbaa-d4dc54c469ec"
   },
   "outputs": [
    {
     "data": {
      "image/png": "[encoded data removed]",
      "text/plain": [
       "<Figure size 648x648 with 1 Axes>"
      ]
     },
     "metadata": {
      "needs_background": "light"
     },
     "output_type": "display_data"
    }
   ],
   "source": [
    "\n"
   ]
  },
  {
   "cell_type": "markdown",
   "metadata": {
    "id": "y3_jL-q7WDrF"
   },
   "source": [
    "\n",
    "print the ppf for 2.5% cutoff and 97.5% cutoff. The output is similar as the following"
   ]
  },
  {
   "cell_type": "code",
   "execution_count": 84,
   "metadata": {
    "colab": {
     "base_uri": "https://localhost:8080/"
    },
    "executionInfo": {
     "elapsed": 237,
     "status": "ok",
     "timestamp": 1643988596033,
     "user": {
      "displayName": "Xiaoli Huan",
      "photoUrl": "https://lh3.googleusercontent.com/a/default-user=s64",
      "userId": "12700089891795799701"
     },
     "user_tz": 360
    },
    "id": "6z018RRmWDrF",
    "outputId": "9aac4ea4-d5a3-4f2f-de34-396e9a7c645c"
   },
   "outputs": [
    {
     "name": "stdout",
     "output_type": "stream",
     "text": [
      "ppf for 2.5% cutoff: -1.9599639845400545\n",
      "ppf for 97.5% cutoff: 1.959963984540054\n"
     ]
    }
   ],
   "source": [
    "import numpy as np\n",
    "from scipy.stats import norm\n",
    "\n",
    "dist = norm(0, 1)\n",
    "ppf_1 = dist.ppf(0.025)\n",
    "\n",
    "ppf_2 = dist.ppf(0.975)\n",
    "\n",
    "# Print the results\n",
    "print(\"ppf for 2.5% cutoff:\", ppf_1)\n",
    "print(\"ppf for 97.5% cutoff:\", ppf_2)\n"
   ]
  },
  {
   "cell_type": "markdown",
   "metadata": {
    "id": "nV_a8hFzWDrF"
   },
   "source": [
    "The quantile output above confirms that roughly 5% of the data lies more than 2 standard deviations from the mean.\n"
   ]
  },
  {
   "cell_type": "code",
   "execution_count": 91,
   "metadata": {},
   "outputs": [
    {
     "name": "stdout",
     "output_type": "stream",
     "text": [
      "ppf for 2.5% cutoff: -1.9599639845400545\n",
      "ppf for 97.5% cutoff: 1.959963984540054\n"
     ]
    }
   ],
   "source": [
    "import numpy as np\n",
    "from scipy.stats import norm\n",
    "\n",
    "dist = norm(0, )\n",
    "\n",
    "ppf_1 = dist.ppf(0.025)\n",
    "\n",
    "\n",
    "ppf_2 = dist.ppf(0.975)\n",
    "\n",
    "# Printing the results\n",
    "print(\"ppf for 2.5% cutoff:\", ppf_1)\n",
    "print(\"ppf for 97.5% cutoff:\", ppf_2)\n"
   ]
  },
  {
   "cell_type": "code",
   "execution_count": null,
   "metadata": {},
   "outputs": [],
   "source": []
  },
  {
   "cell_type": "code",
   "execution_count": null,
   "metadata": {},
   "outputs": [],
   "source": []
  },
  {
   "cell_type": "code",
   "execution_count": null,
   "metadata": {},
   "outputs": [],
   "source": []
  },
  {
   "cell_type": "code",
   "execution_count": null,
   "metadata": {},
   "outputs": [],
   "source": []
  },
  {
   "cell_type": "markdown",
   "metadata": {
    "id": "jMRGOfRlWDrF"
   },
   "source": [
    "## The Binomial Distribution"
   ]
  },
  {
   "cell_type": "markdown",
   "metadata": {
    "id": "M_3gvuROWDrF"
   },
   "source": [
    "We will use binomial distribution to model coin flips. The scipy name for the binomial is binom. Here we set the number of flips per trial to 10,  the number of trials to 10000, and success probability to 0.5. \n",
    "\n",
    "Create a random binomial distribution data \"fair_coin_flips\" in the code line below."
   ]
  },
  {
   "cell_type": "code",
   "execution_count": 4,
   "metadata": {
    "id": "mkJxZbGIxizh"
   },
   "outputs": [
    {
     "name": "stdout",
     "output_type": "stream",
     "text": [
      "col_0   0   1    2     3     4     5     6     7    8    9   10\n",
      "row_0                                                          \n",
      "counts   7  87  439  1144  2055  2397  2123  1198  440  100  10\n"
     ]
    },
    {
     "data": {
      "image/png": "[encoded data removed]",
      "text/plain": [
       "<Figure size 640x480 with 1 Axes>"
      ]
     },
     "metadata": {},
     "output_type": "display_data"
    }
   ],
   "source": [
    "import numpy as np\n",
    "import pandas as pd\n",
    "import matplotlib.pyplot as plt\n",
    "from scipy.stats import binom\n",
    "\n",
    "num_flips_per_trial = 10\n",
    "num_trials = 10000\n",
    "success_prob = 0.5\n",
    "\n",
    "fair_coin_flips = np.random.binomial(num_flips_per_trial, success_prob, num_trials)\n",
    "\n",
    "print(pd.crosstab(index=\"counts\", columns=fair_coin_flips))\n",
    "\n",
    "\n",
    "pd.DataFrame(fair_coin_flips).hist(range=(-0.5, 10.5), bins=11)\n",
    "plt.xlabel('Frequency')\n",
    "plt.ylabel('Number of Heads')\n",
    "plt.title('Histogram of Fair Coin Flips')\n",
    "plt.show()\n"
   ]
  },
  {
   "cell_type": "markdown",
   "metadata": {
    "id": "6NOTE2BIWDrG"
   },
   "source": [
    "The histogram above shows us that a binomial distribution with a 50% probability of success is roughly symmetric, with the most likely outcomes lying at the center. \n",
    "Change the success rate to 0.8, implement the codes similar as above to show the distribution won't be symmetric:"
   ]
  },
  {
   "cell_type": "code",
   "execution_count": 90,
   "metadata": {
    "colab": {
     "base_uri": "https://localhost:8080/",
     "height": 605
    },
    "executionInfo": {
     "elapsed": 479,
     "status": "ok",
     "timestamp": 1643988580794,
     "user": {
      "displayName": "Xiaoli Huan",
      "photoUrl": "https://lh3.googleusercontent.com/a/default-user=s64",
      "userId": "12700089891795799701"
     },
     "user_tz": 360
    },
    "id": "ayZSW5zmWDrG",
    "outputId": "9b6e5bc1-2137-478d-f670-c6021be75c1a"
   },
   "outputs": [
    {
     "name": "stdout",
     "output_type": "stream",
     "text": [
      "col_0   3   4    5    6     7     8     9     10\n",
      "row_0                                           \n",
      "counts   9  64  280  886  1923  2971  2773  1094\n"
     ]
    },
    {
     "data": {
      "image/png": "[encoded data removed]",
      "text/plain": [
       "<Figure size 640x480 with 1 Axes>"
      ]
     },
     "metadata": {},
     "output_type": "display_data"
    }
   ],
   "source": [
    "from scipy.stats import binom\n",
    "\n",
    "n_flips = 10\n",
    "n_trials = 10000\n",
    "p_success = 0.8\n",
    "\n",
    "fair_coin_flips = binom.rvs(n_flips, p_success, size=n_trials)\n",
    "\n",
    "print(pd.crosstab(index=\"counts\", columns=fair_coin_flips))\n",
    "\n",
    "# Drawing the graph \n",
    "pd.DataFrame(fair_coin_flips).hist(range=(-0.5, 10.5), bins=11);\n"
   ]
  },
  {
   "cell_type": "code",
   "execution_count": null,
   "metadata": {},
   "outputs": [],
   "source": []
  },
  {
   "cell_type": "markdown",
   "metadata": {
    "id": "ybMhEMhOWDrG"
   },
   "source": [
    "Continue from above binomial distribution(success rate=0.8), give the codes to get the probability of achieving 5 heads or less with 10 flips."
   ]
  },
  {
   "cell_type": "markdown",
   "metadata": {
    "id": "EdSbcxw62Y9x"
   },
   "source": [
    "Continue from above binomial distribution(success rate=0.8), give the codes to get the probability of achieving 9 heads or more with 10 flips."
   ]
  },
  {
   "cell_type": "code",
   "execution_count": 89,
   "metadata": {},
   "outputs": [
    {
     "name": "stdout",
     "output_type": "stream",
     "text": [
      "0.37580963840000003\n"
     ]
    }
   ],
   "source": [
    "from scipy.stats import binom\n",
    "\n",
    "n_flips = 10\n",
    "n_trials = 10000\n",
    "p_success = 0.8\n",
    "prob_9_heads_or_more = binom.pmf(9, n_flips, p_success) + binom.pmf(10, n_flips, p_success)\n",
    "\n",
    "# Printing the probability.\n",
    "print(prob_9_heads_or_more)\n"
   ]
  },
  {
   "cell_type": "markdown",
   "metadata": {
    "id": "muBEhjHyWDrH"
   },
   "source": [
    "For continuous probability density functions, you use pdf() to check the probability density at a given x value. For discrete distributions like the binomial, use stats.distribution.pmf() (probability mass function) to check the mass (proportion of observations) at given number of successes k. \n",
    "Write codes to give the probability density at 5 heads with success rate of 0.5 of 10 flips."
   ]
  },
  {
   "cell_type": "code",
   "execution_count": 23,
   "metadata": {
    "colab": {
     "base_uri": "https://localhost:8080/"
    },
    "executionInfo": {
     "elapsed": 4,
     "status": "ok",
     "timestamp": 1643988581026,
     "user": {
      "displayName": "Xiaoli Huan",
      "photoUrl": "https://lh3.googleusercontent.com/a/default-user=s64",
      "userId": "12700089891795799701"
     },
     "user_tz": 360
    },
    "id": "pn7DjhdIWDrH",
    "outputId": "82bc499a-eb18-44c1-e088-5090de6d8304"
   },
   "outputs": [
    {
     "name": "stdout",
     "output_type": "stream",
     "text": [
      "0.24609375000000003\n"
     ]
    }
   ],
   "source": [
    "from scipy.stats import binom\n",
    "\n",
    "n_flips = 10\n",
    "n_trials = 10000\n",
    "p_success = 0.5\n",
    "\n",
    "prob_5_heads = binom.pmf(5, n_flips, p_success)\n",
    "\n",
    "print(prob_5_heads)\n"
   ]
  },
  {
   "cell_type": "markdown",
   "metadata": {
    "id": "yygZPFEa8TEG"
   },
   "source": [
    "What about the probability density at 8 heads with success rate of 0.8 of 10 flips?"
   ]
  },
  {
   "cell_type": "code",
   "execution_count": 24,
   "metadata": {
    "colab": {
     "base_uri": "https://localhost:8080/"
    },
    "executionInfo": {
     "elapsed": 4,
     "status": "ok",
     "timestamp": 1643988581026,
     "user": {
      "displayName": "Xiaoli Huan",
      "photoUrl": "https://lh3.googleusercontent.com/a/default-user=s64",
      "userId": "12700089891795799701"
     },
     "user_tz": 360
    },
    "id": "XNCfMBj6WDrH",
    "outputId": "40b81817-a973-445e-868e-1b988907844c"
   },
   "outputs": [
    {
     "name": "stdout",
     "output_type": "stream",
     "text": [
      "0.30198988799999993\n"
     ]
    }
   ],
   "source": [
    "from scipy.stats import binom\n",
    "\n",
    "n_flips = 10\n",
    "n_trials = 10000\n",
    "p_success = 0.8\n",
    "\n",
    "prob_8_heads = binom.pmf(8, n_flips, p_success)\n",
    "\n",
    "print(prob_8_heads)\n"
   ]
  },
  {
   "cell_type": "markdown",
   "metadata": {
    "id": "LKqkiSsnWDrJ"
   },
   "source": [
    "## Wrap Up"
   ]
  },
  {
   "cell_type": "markdown",
   "metadata": {
    "id": "HEVLHyABWDrK"
   },
   "source": [
    "Extra information of Exponential Distributions and Poisson Distributions will be given in the solution. \n",
    "\n",
    "\n",
    "Python's scipy library contains functions that make it easy to work with a wide range of probability distributions, including [many that we did not discuss](https://docs.scipy.org/doc/scipy/reference/stats.html) in this lesson. Probability distribution functions are useful for generating random data, modeling random events and aiding with statistical tests and analysis.\n"
   ]
  }
 ],
 "metadata": {
  "colab": {
   "collapsed_sections": [],
   "name": "homework3.ipynb",
   "provenance": []
  },
  "kernelspec": {
   "display_name": "Python 3 (ipykernel)",
   "language": "python",
   "name": "python3"
  },
  "language_info": {
   "codemirror_mode": {
    "name": "ipython",
    "version": 3
   },
   "file_extension": ".py",
   "mimetype": "text/x-python",
   "name": "python",
   "nbconvert_exporter": "python",
   "pygments_lexer": "ipython3",
   "version": "3.9.13"
  }
 },
 "nbformat": 4,
 "nbformat_minor": 1
}
