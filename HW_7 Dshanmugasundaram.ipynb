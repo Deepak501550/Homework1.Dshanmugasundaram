{
 "cells": [
  {
   "cell_type": "code",
   "execution_count": 26,
   "id": "19e16bb3",
   "metadata": {},
   "outputs": [
    {
     "name": "stdout",
     "output_type": "stream",
     "text": [
      "L = 1.2909944727867015\n",
      "W = 1.290994455352175\n",
      "H = 1.2909944180130968\n",
      "Volume = 2.151657414467269\n",
      "Surface Area = 9.999999999713689\n"
     ]
    }
   ],
   "source": [
    "import numpy as np\n",
    "from scipy.optimize import minimize\n",
    "\n",
    "def objective(x):\n",
    "    L, W, H = x\n",
    "    volume = L * W * H\n",
    "    return -volume  \n",
    "\n",
    "\n",
    "def constraint(x):\n",
    "    L, W, H = x\n",
    "    surface_area = 2 * (L * W + L * H + W * H)\n",
    "    return 10 - surface_area  \n",
    "\n",
    "bounds = [(1, 10), (1, 10), (1, 10)]\n",
    "\n",
    "initial_guess = [1, 1, 1]  \n",
    "\n",
    "\n",
    "result = minimize(objective, x0=initial_guess, bounds=bounds, constraints={'type': 'ineq', 'fun': constraint}, method='SLSQP')\n",
    "\n",
    "L, W, H = result.x\n",
    "\n",
    "print(\"L =\", L)\n",
    "print(\"W =\", W)\n",
    "print(\"H =\", H)\n",
    "print(\"Volume =\", L * W * H)\n",
    "print(\"Surface Area =\", 2 * (L * W + L * H + W * H))\n"
   ]
  },
  {
   "cell_type": "code",
   "execution_count": null,
   "id": "4aa53e25",
   "metadata": {},
   "outputs": [],
   "source": []
  },
  {
   "cell_type": "code",
   "execution_count": null,
   "id": "8c5d8c7d",
   "metadata": {},
   "outputs": [],
   "source": []
  },
  {
   "cell_type": "code",
   "execution_count": null,
   "id": "e242d458",
   "metadata": {},
   "outputs": [],
   "source": []
  },
  {
   "cell_type": "code",
   "execution_count": null,
   "id": "c53b9116",
   "metadata": {},
   "outputs": [],
   "source": []
  },
  {
   "cell_type": "code",
   "execution_count": null,
   "id": "0747a1d8",
   "metadata": {},
   "outputs": [],
   "source": []
  },
  {
   "cell_type": "code",
   "execution_count": null,
   "id": "6ab6315b",
   "metadata": {},
   "outputs": [],
   "source": []
  },
  {
   "cell_type": "code",
   "execution_count": null,
   "id": "c99b6342",
   "metadata": {},
   "outputs": [],
   "source": []
  },
  {
   "cell_type": "code",
   "execution_count": null,
   "id": "44caf1b3",
   "metadata": {},
   "outputs": [],
   "source": []
  },
  {
   "cell_type": "code",
   "execution_count": null,
   "id": "8ab11ce8",
   "metadata": {},
   "outputs": [],
   "source": []
  },
  {
   "cell_type": "code",
   "execution_count": null,
   "id": "956a519e",
   "metadata": {},
   "outputs": [],
   "source": []
  }
 ],
 "metadata": {
  "kernelspec": {
   "display_name": "Python 3 (ipykernel)",
   "language": "python",
   "name": "python3"
  },
  "language_info": {
   "codemirror_mode": {
    "name": "ipython",
    "version": 3
   },
   "file_extension": ".py",
   "mimetype": "text/x-python",
   "name": "python",
   "nbconvert_exporter": "python",
   "pygments_lexer": "ipython3",
   "version": "3.11.3"
  }
 },
 "nbformat": 4,
 "nbformat_minor": 5
}
