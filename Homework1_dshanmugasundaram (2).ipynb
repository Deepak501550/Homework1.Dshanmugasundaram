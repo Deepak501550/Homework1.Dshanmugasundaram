{
 "cells": [
  {
   "cell_type": "markdown",
   "metadata": {
    "id": "MZjBN_HdrL3w"
   },
   "source": [
    "##**Use sympy to solve the following questions**\n",
    "**1. Solve the quadratic function $x^2+2x-8=0$**"
   ]
  },
  {
   "cell_type": "code",
   "execution_count": 1,
   "metadata": {},
   "outputs": [
    {
     "name": "stdout",
     "output_type": "stream",
     "text": [
      "-4\n",
      "2\n"
     ]
    }
   ],
   "source": [
    "# Answer for question 1 \n",
    "from sympy import symbols, Eq, solve\n",
    "\n",
    "x = symbols('x')\n",
    "equation = Eq(x**2 + 2*x - 8, 0)\n",
    "solutions = solve(equation, x)\n",
    "for solution in solutions:\n",
    "    print(solution)\n"
   ]
  },
  {
   "cell_type": "code",
   "execution_count": null,
   "metadata": {},
   "outputs": [],
   "source": []
  },
  {
   "cell_type": "markdown",
   "metadata": {
    "id": "osWHgKk5t9MA"
   },
   "source": [
    "**2. What is the function f(x) which is equal to its\n",
    "derivative?**"
   ]
  },
  {
   "cell_type": "code",
   "execution_count": 2,
   "metadata": {
    "id": "MR8ijByJroeV"
   },
   "outputs": [],
   "source": [
    " # q2. What is the function f(x) which is equal to its derivative?\n",
    "#   function f(x)= e^x"
   ]
  },
  {
   "cell_type": "markdown",
   "metadata": {
    "id": "P2b7XyAD5qf1"
   },
   "source": [
    "**3. Compute the area under $f(x)=x^3$ from x=0 to x=1**"
   ]
  },
  {
   "cell_type": "code",
   "execution_count": 3,
   "metadata": {
    "id": "W1MNf_ptrqOK"
   },
   "outputs": [
    {
     "name": "stdout",
     "output_type": "stream",
     "text": [
      "1/4\n"
     ]
    }
   ],
   "source": [
    "#3 rd answer \n",
    "from sympy import symbols, integrate\n",
    "\n",
    "x = symbols('x')\n",
    "function = x**3\n",
    "\n",
    "area = integrate(function, (x, 0, 1))\n",
    "print(area)"
   ]
  },
  {
   "cell_type": "markdown",
   "metadata": {
    "id": "X0WDytOW_0Ds"
   },
   "source": [
    "**4. Calculate $\\displaystyle\\sum\\limits_{x=0}^\\infty \\left(\\frac{1}{x!}\\right)$**"
   ]
  },
  {
   "cell_type": "code",
   "execution_count": 4,
   "metadata": {
    "id": "9j3BL9Tbrrhw"
   },
   "outputs": [
    {
     "name": "stdout",
     "output_type": "stream",
     "text": [
      "2.7182818011463845\n"
     ]
    }
   ],
   "source": [
    "#  answer for question 4 \n",
    "#   Calculates the sum of the series 1/x! from x=0 to infinity.\n",
    "from numpy import math\n",
    "def sum_to_infinity(x):\n",
    "\n",
    "\n",
    " \n",
    "\n",
    "\n",
    "  sum = 0\n",
    "  for i in range(x + 1):\n",
    "    sum += 1 / math.factorial(i)\n",
    "\n",
    "  return sum\n",
    "\n",
    "\n",
    "if __name__ == \"__main__\":\n",
    "  x = 10\n",
    "\n",
    "  sum = sum_to_infinity(x)\n",
    "\n",
    "  print(sum)\n"
   ]
  },
  {
   "cell_type": "markdown",
   "metadata": {
    "id": "GX1ZPTnTCtrV"
   },
   "source": [
    "**5. Calculate $\\lim_{n \\rightarrow \\infty}(1+\\frac{1}{n})^n$**"
   ]
  },
  {
   "cell_type": "code",
   "execution_count": 5,
   "metadata": {
    "id": "9RuIX--BrwG_"
   },
   "outputs": [
    {
     "name": "stdout",
     "output_type": "stream",
     "text": [
      "2.7169239322355936\n"
     ]
    }
   ],
   "source": [
    "\n",
    "#   5 th answer \n",
    "  \n",
    "#   Calculates the value of (1 +limn→∞ 1/n)^n.\n",
    "\n",
    "from numpy import math \n",
    "def calculate_value(n):\n",
    " \n",
    "\n",
    "  \n",
    "# setting the series limit on the value \n",
    "\n",
    "  series_limit = 1 + 1 / n\n",
    "  value = series_limit ** n\n",
    "\n",
    "  return value\n",
    "\n",
    "\n",
    "if __name__ == \"__main__\":\n",
    "  n = 1000\n",
    "\n",
    "  value = calculate_value(n)\n",
    "\n",
    "  print(value)\n"
   ]
  },
  {
   "cell_type": "code",
   "execution_count": 6,
   "metadata": {
    "id": "DjIgeasrrw1d"
   },
   "outputs": [
    {
     "name": "stdout",
     "output_type": "stream",
     "text": [
      "Matrix([[2, -2, 1], [-3, -1, 0], [-8, 2, -3], [7, -7, 6]])\n"
     ]
    }
   ],
   "source": [
    "# 6th answer where the trans pose are made for the flipped matrixs\n",
    "from sympy import Matrix\n",
    "\n",
    "matrix = Matrix([[2, -3, -8,7], [-2, -1,2, -7], [1,0,-3,6]])\n",
    "flipped_matrix = matrix.transpose()\n",
    "\n",
    "print(flipped_matrix)\n"
   ]
  },
  {
   "cell_type": "markdown",
   "metadata": {
    "id": "rLTC_3INOPdj"
   },
   "source": [
    "**7. Row operations: We know the following matrix**"
   ]
  },
  {
   "cell_type": "code",
   "execution_count": 7,
   "metadata": {
    "colab": {
     "base_uri": "https://localhost:8080/",
     "height": 78
    },
    "id": "iWzjfQn0Ox_a",
    "outputId": "9a591e92-6369-4a7a-ddde-f4b3748e88b2"
   },
   "outputs": [
    {
     "name": "stdout",
     "output_type": "stream",
     "text": [
      "[[1. 0. 0.]\n",
      " [0. 1. 1.]\n",
      " [0. 0. 1.]]\n"
     ]
    }
   ],
   "source": [
    "# Answer for thr 7th question\n",
    "import numpy as np\n",
    "\n",
    "def row_operations(matrix, row1, row2, operation):\n",
    " \n",
    "# matrix operation that was made in row 1 and row 2 \n",
    "  if operation == \"add\":\n",
    "    matrix[row1] += matrix[row2]\n",
    "  elif operation == \"subtract\":\n",
    "    matrix[row1] -= matrix[row2]\n",
    "  elif operation == \"multiply\":\n",
    "    matrix[row1] *= matrix[row2]\n",
    "  elif operation == \"divide\":\n",
    "    matrix[row1] /= matrix[row2]\n",
    "\n",
    "  return matrix\n",
    "\n",
    "\n",
    "def main():\n",
    "  matrix = np.eye(3)\n",
    "\n",
    "  # Update R2 to R2 + 3R1. in the matrix \n",
    "  matrix = row_operations(matrix, 1, 2, \"add\")\n",
    "\n",
    "  # Print the matri as asked in the question\n",
    "  print(matrix)\n",
    "\n",
    "\n",
    "if __name__ == \"__main__\":\n",
    "  main()\n"
   ]
  },
  {
   "cell_type": "markdown",
   "metadata": {
    "id": "v8pI_LiDjkBj"
   },
   "source": [
    "**Do matrix row operations to R2 ← R2 + 3R1. (update Row 2 to R2+3*R1). Print the matrix**"
   ]
  },
  {
   "cell_type": "markdown",
   "metadata": {
    "id": "lStKMbpWkZky"
   },
   "source": [
    "**8.Find determinant of M**"
   ]
  },
  {
   "cell_type": "code",
   "execution_count": 8,
   "metadata": {
    "id": "klYDCja9r1N3"
   },
   "outputs": [
    {
     "name": "stdout",
     "output_type": "stream",
     "text": [
      "1\n"
     ]
    }
   ],
   "source": [
    "#Answer for the 8th question\n",
    "def determinant(matrix):\n",
    " \n",
    "#finding the determinant of the matrix \n",
    "  determinant = 1\n",
    "  for i in range(len(matrix)):\n",
    "    for j in range(i):\n",
    "      if matrix[i][j] != 0:\n",
    "        determinant *= matrix[i][j]\n",
    "\n",
    "  return determinant\n",
    "\n",
    "\n",
    "def main():\n",
    "  matrix = np.eye(3)\n",
    "\n",
    "  # Print the determinant of M.\n",
    "  print(determinant(matrix))\n",
    "\n",
    "\n",
    "if __name__ == \"__main__\":\n",
    "  main()\n"
   ]
  },
  {
   "cell_type": "code",
   "execution_count": null,
   "metadata": {},
   "outputs": [],
   "source": []
  },
  {
   "cell_type": "markdown",
   "metadata": {
    "id": "qaXra9fNlSDu"
   },
   "source": [
    "**9.Find the following matrix's eigenvalue and eigen vector**"
   ]
  },
  {
   "cell_type": "code",
   "execution_count": 9,
   "metadata": {
    "id": "W8cpvW7lljCv"
   },
   "outputs": [
    {
     "name": "stdout",
     "output_type": "stream",
     "text": [
      "Eigenvalues: {10: 1, 5: 1}\n",
      "Eigenvectors: [(5, 1, [Matrix([\n",
      "[1/2],\n",
      "[  1]])]), (10, 1, [Matrix([\n",
      "[-2],\n",
      "[ 1]])])]\n"
     ]
    }
   ],
   "source": [
    "from sympy import Matrix\n",
    "# question 9\n",
    "\n",
    "M = Matrix([[9, -2], [-2, 6]])\n",
    "eigenvals = M.eigenvals()\n",
    "eigenvects = M.eigenvects()\n",
    "\n",
    "print(\"Eigenvalues:\", eigenvals)\n",
    "print(\"Eigenvectors:\", eigenvects)\n"
   ]
  },
  {
   "cell_type": "code",
   "execution_count": 10,
   "metadata": {},
   "outputs": [
    {
     "name": "stderr",
     "output_type": "stream",
     "text": [
      "C:\\Users\\depak\\AppData\\Local\\Temp\\ipykernel_2432\\2459637560.py:16: RuntimeWarning: overflow encountered in double_scalars\n",
      "  fish_population[i] = fish_population[i-1] + alpha * fish_population[i-1] - beta * fish_population[i-1] * bear_population[i-1]\n",
      "C:\\Users\\depak\\AppData\\Local\\Temp\\ipykernel_2432\\2459637560.py:19: RuntimeWarning: overflow encountered in double_scalars\n",
      "  bear_population[i] = bear_population[i-1] + delta * bear_population[i-1] * fish_population[i-1] - gamma * bear_population[i-1]\n",
      "C:\\Users\\depak\\AppData\\Local\\Temp\\ipykernel_2432\\2459637560.py:19: RuntimeWarning: invalid value encountered in double_scalars\n",
      "  bear_population[i] = bear_population[i-1] + delta * bear_population[i-1] * fish_population[i-1] - gamma * bear_population[i-1]\n"
     ]
    },
    {
     "data": {
      "image/png": "[encoded data removed]",
      "text/plain": [
       "<Figure size 640x480 with 1 Axes>"
      ]
     },
     "metadata": {},
     "output_type": "display_data"
    }
   ],
   "source": [
    "# Answer for the 10th question\n",
    "import numpy as np\n",
    "import matplotlib.pyplot as plt\n",
    "\n",
    "def predator_prey(fish, bears, alpha, beta, delta, gamma, time_steps):\n",
    "   \n",
    "\n",
    "    fish_population = np.zeros(time_steps)\n",
    "    bear_population = np.zeros(time_steps)\n",
    "\n",
    "    fish_population[0] = fish\n",
    "    bear_population[0] = bears\n",
    "\n",
    "    for i in range(1, time_steps):\n",
    "        # Update the fish population.\n",
    "        fish_population[i] = fish_population[i-1] + alpha * fish_population[i-1] - beta * fish_population[i-1] * bear_population[i-1]\n",
    "\n",
    "        # Update the bear population.\n",
    "        bear_population[i] = bear_population[i-1] + delta * bear_population[i-1] * fish_population[i-1] - gamma * bear_population[i-1]\n",
    "\n",
    "    return fish_population, bear_population\n",
    "\n",
    "\n",
    "# Set the initial conditions.\n",
    "fish = 1000\n",
    "bears = 100\n",
    "\n",
    "# Set the parameters.\n",
    "alpha = 1.1\n",
    "beta = 0.4\n",
    "delta = 0.1\n",
    "gamma = 0.4\n",
    "\n",
    "# Set the number of time steps.\n",
    "time_steps = 1000\n",
    "\n",
    "# Simulate the predator-prey model.\n",
    "fish_population, bear_population = predator_prey(fish, bears, alpha, beta, delta, gamma, time_steps)\n",
    "\n",
    "# Generate the time array.\n",
    "t = np.linspace(0, 50, num=time_steps)\n",
    "\n",
    "# Plot the results.\n",
    "plt.plot(t, fish_population, label=\"Fish\")\n",
    "plt.plot(t, bear_population, label=\"Bears\")\n",
    "plt.xlabel(\"Time\")\n",
    "plt.ylabel(\"Population\")\n",
    "plt.legend()\n",
    "plt.show()\n"
   ]
  },
  {
   "cell_type": "code",
   "execution_count": null,
   "metadata": {},
   "outputs": [],
   "source": []
  },
  {
   "cell_type": "markdown",
   "metadata": {
    "id": "T0NeZ4Hwo1Uy"
   },
   "source": [
    "**10. Implement the Predator-prey model in python**\n",
    "\n",
    "Suppose fish starts at 10 hundreds, bears starts at 1 hundred\n",
    "\n",
    "alpha = 1.1\n",
    "\n",
    "beta = 0.4\n",
    "\n",
    "delta = 0.1\n",
    "\n",
    "gamma = 0.4\n",
    "\n",
    "draw the plots(bear-time, fish-time)\n",
    "\n",
    "t = np.linspace(0,50,num=1000)\n"
   ]
  }
 ],
 "metadata": {
  "colab": {
   "collapsed_sections": [],
   "name": "homework1.ipynb",
   "provenance": []
  },
  "kernelspec": {
   "display_name": "Python 3 (ipykernel)",
   "language": "python",
   "name": "python3"
  },
  "language_info": {
   "codemirror_mode": {
    "name": "ipython",
    "version": 3
   },
   "file_extension": ".py",
   "mimetype": "text/x-python",
   "name": "python",
   "nbconvert_exporter": "python",
   "pygments_lexer": "ipython3",
   "version": "3.9.13"
  }
 },
 "nbformat": 4,
 "nbformat_minor": 1
}
