{
 "cells": [
  {
   "cell_type": "code",
   "execution_count": null,
   "id": "e5c0d784",
   "metadata": {},
   "outputs": [],
   "source": [
    "# 1. The starting state is Rest. Calculate the probability of possible activity on the 15th day."
   ]
  },
  {
   "cell_type": "code",
   "execution_count": 3,
   "id": "b1fc516e",
   "metadata": {},
   "outputs": [
    {
     "name": "stdout",
     "output_type": "stream",
     "text": [
      "Activity on the 15th day: Exercise\n"
     ]
    }
   ],
   "source": [
    "import numpy as np\n",
    "\n",
    " \n",
    "\n",
    "state = {\n",
    "    0: \"Rest\",\n",
    "    1: \"Sweeties\",\n",
    "    2: \"Exercise\"\n",
    "}\n",
    "\n",
    " \n",
    "\n",
    "A = np.array([[0.2, 0.2, 0.6], [0.2, 0.1, 0.7], [0.1, 0.3, 0.6]])\n",
    "\n",
    " \n",
    "\n",
    "start_state = 0\n",
    "curr_state = start_state\n",
    "n = 15\n",
    "\n",
    " \n",
    "\n",
    "for _ in range(n - 1):\n",
    "    curr_state = np.random.choice([0, 1, 2], p=A[curr_state])\n",
    "\n",
    " \n",
    "\n",
    "activity = state[curr_state]\n",
    "print(\"Activity on the 15th day:\", activity)"
   ]
  },
  {
   "cell_type": "code",
   "execution_count": null,
   "id": "056791bf",
   "metadata": {},
   "outputs": [],
   "source": [
    "# 2. What about the state and probability after 10000 days?"
   ]
  },
  {
   "cell_type": "code",
   "execution_count": 4,
   "id": "786cd4e6",
   "metadata": {},
   "outputs": [
    {
     "name": "stdout",
     "output_type": "stream",
     "text": [
      "State counts after 10000 days:\n",
      "Rest : 1393\n",
      "Sweeties : 2395\n",
      "Exercise : 6212\n",
      "\n",
      "State probabilities after 10000 days:\n",
      "Rest : 0.1393\n",
      "Sweeties : 0.2395\n",
      "Exercise : 0.6212\n"
     ]
    }
   ],
   "source": [
    "import numpy as np\n",
    "\n",
    " \n",
    "\n",
    "state = {\n",
    "    0: \"Rest\",\n",
    "    1: \"Sweeties\",\n",
    "    2: \"Exercise\"\n",
    "}\n",
    "\n",
    " \n",
    "\n",
    "A = np.array([[0.2, 0.2, 0.6], [0.2, 0.1, 0.7], [0.1, 0.3, 0.6]])\n",
    "\n",
    " \n",
    "\n",
    "start_state = 0\n",
    "curr_state = start_state\n",
    "n = 10000\n",
    "\n",
    " \n",
    "\n",
    "state_count = {state_id: 0 for state_id in state}\n",
    "\n",
    " \n",
    "\n",
    "for _ in range(n):\n",
    "    curr_state = np.random.choice([0, 1, 2], p=A[curr_state])\n",
    "    state_count[curr_state] += 1\n",
    "\n",
    " \n",
    "\n",
    "state_probabilities = {state_id: count / n for state_id, count in state_count.items()}\n",
    "\n",
    " \n",
    "\n",
    "print(\"State counts after 10000 days:\")\n",
    "for state_id, count in state_count.items():\n",
    "    print(state[state_id], \":\", count)\n",
    "\n",
    " \n",
    "\n",
    "print(\"\\nState probabilities after 10000 days:\")\n",
    "for state_id, prob in state_probabilities.items():\n",
    "    print(state[state_id], \":\", prob)"
   ]
  },
  {
   "cell_type": "code",
   "execution_count": null,
   "id": "d55103c8",
   "metadata": {},
   "outputs": [],
   "source": [
    "# 3. What do you observe from the above two?"
   ]
  },
  {
   "cell_type": "code",
   "execution_count": null,
   "id": "41644896",
   "metadata": {},
   "outputs": [],
   "source": [
    "# Activity on day 15: Looking at a single instance of a Markov chain \n",
    "# starting from an \"inactive state\", the activity on  day 15 can \n",
    "# vary due to the randomness of the process. The specific activity \n",
    "# observed on  day 15 depends on the probabilities defined in  transition matrix A.  \n",
    "# State and probability after 10,000 days: By running a Monte Carlo simulation and running\n",
    "# the Markov chain for a large number of days (in this case 10,000 days),\n",
    "# we can gather statistics about the states visited. State counters indicate the \n",
    "# number of times each state was visited, while  state probabilities indicate the relative \n",
    "# frequency of each state during the simulation period. These probabilities \n",
    "# can give us insight into the long-term behavior of the Markov chain. \n",
    "# In summary, simulations allow the analysis of short and long-term results of the\n",
    "# Markov chain and provide information about possible actions and their  probabilities at certain points \n",
    "# in time and over a longer period of time."
   ]
  },
  {
   "cell_type": "code",
   "execution_count": null,
   "id": "34702ccd",
   "metadata": {},
   "outputs": [],
   "source": []
  },
  {
   "cell_type": "code",
   "execution_count": null,
   "id": "0dc3ecca",
   "metadata": {},
   "outputs": [],
   "source": []
  },
  {
   "cell_type": "code",
   "execution_count": null,
   "id": "c6cdd711",
   "metadata": {},
   "outputs": [],
   "source": []
  },
  {
   "cell_type": "code",
   "execution_count": null,
   "id": "e56736b5",
   "metadata": {},
   "outputs": [],
   "source": []
  },
  {
   "cell_type": "code",
   "execution_count": null,
   "id": "63603b2d",
   "metadata": {},
   "outputs": [],
   "source": []
  },
  {
   "cell_type": "code",
   "execution_count": null,
   "id": "ba1b8319",
   "metadata": {},
   "outputs": [],
   "source": []
  },
  {
   "cell_type": "code",
   "execution_count": null,
   "id": "48ca4f1c",
   "metadata": {},
   "outputs": [],
   "source": []
  },
  {
   "cell_type": "code",
   "execution_count": null,
   "id": "a5f5d48e",
   "metadata": {},
   "outputs": [],
   "source": []
  }
 ],
 "metadata": {
  "kernelspec": {
   "display_name": "Python 3 (ipykernel)",
   "language": "python",
   "name": "python3"
  },
  "language_info": {
   "codemirror_mode": {
    "name": "ipython",
    "version": 3
   },
   "file_extension": ".py",
   "mimetype": "text/x-python",
   "name": "python",
   "nbconvert_exporter": "python",
   "pygments_lexer": "ipython3",
   "version": "3.10.9"
  }
 },
 "nbformat": 4,
 "nbformat_minor": 5
}
