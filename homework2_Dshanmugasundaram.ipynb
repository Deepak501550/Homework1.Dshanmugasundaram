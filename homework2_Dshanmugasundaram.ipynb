{
 "cells": [
  {
   "cell_type": "markdown",
   "metadata": {
    "id": "nF0Ps19ADEAg"
   },
   "source": [
    "\n",
    "1. Use for loop to generate 3 random integers between 100 and 999 which is divisible by 5. \n",
    "\n"
   ]
  },
  {
   "cell_type": "code",
   "execution_count": 1,
   "metadata": {},
   "outputs": [
    {
     "name": "stdout",
     "output_type": "stream",
     "text": [
      "Generated numbers: [705, 140, 955]\n"
     ]
    }
   ],
   "source": [
    "import random\n",
    "\n",
    "def generate_random_numbers(min_value, max_value, divisible_by):\n",
    " \n",
    "\n",
    "  numbers = []\n",
    "  for i in range(3):\n",
    "    number = random.randint(min_value, max_value)\n",
    "    while number % divisible_by != 0:\n",
    "      number = random.randint(min_value, max_value)\n",
    "    numbers.append(number)\n",
    "\n",
    "  return numbers\n",
    "\n",
    "\n",
    "if __name__ == \"__main__\":\n",
    "  # Generating 3 random numbers \n",
    "  numbers = generate_random_numbers(100, 999, 5)\n",
    "\n",
    "  # Print the numbers.\n",
    "  print(\"Generated numbers:\", numbers)\n"
   ]
  },
  {
   "cell_type": "code",
   "execution_count": null,
   "metadata": {},
   "outputs": [],
   "source": []
  },
  {
   "cell_type": "markdown",
   "metadata": {
    "id": "hyXLw2juDQBR"
   },
   "source": [
    "2.The Logistic distribution is used in Extreme Value problems where it can act as a mixture of Gumbel distributions. Draw samples from a logistic distribution and plot it. loc=10, scale=1 and size =1000. "
   ]
  },
  {
   "cell_type": "code",
   "execution_count": 3,
   "metadata": {},
   "outputs": [
    {
     "data": {
      "image/png": "[encoded data removed]",
      "text/plain": [
       "<Figure size 640x480 with 1 Axes>"
      ]
     },
     "metadata": {},
     "output_type": "display_data"
    }
   ],
   "source": [
    "import numpy as np\n",
    "import matplotlib.pyplot as plt\n",
    "\n",
    "# Set the parameters for the logistic distribution\n",
    "loc = 10  # Mean of the distribution\n",
    "scale = 1  # Standard deviation of the distribution\n",
    "size = 1000  # Number of samples to generate\n",
    "\n",
    "# Generate samples from the logistic distribution\n",
    "samples = np.random.logistic(loc=loc, scale=scale, size=size)\n",
    "\n",
    "# Plot the histogram of the samples\n",
    "plt.hist(samples, bins=30, density=True, alpha=0.7)\n",
    "plt.ylabel(\"Value\")\n",
    "plt.xlabel(\"Density\")\n",
    "plt.title(\"Logistic Distribution\")\n",
    "plt.show()\n"
   ]
  },
  {
   "cell_type": "markdown",
   "metadata": {
    "id": "0jAtQnvcFn1g"
   },
   "source": [
    "3.\tGenerate 6 digit random secure OTP."
   ]
  },
  {
   "cell_type": "code",
   "execution_count": 4,
   "metadata": {},
   "outputs": [
    {
     "name": "stdout",
     "output_type": "stream",
     "text": [
      "Generating 6-digit random OTP:\n",
      "Secure random OTP is 077006\n"
     ]
    }
   ],
   "source": [
    "import secrets\n",
    "\n",
    "\n",
    "otp = secrets.randbelow(10**6)\n",
    "\n",
    "# creating the otp\n",
    "otp = str(otp).zfill(6)\n",
    "\n",
    "print(\"Generating 6-digit random OTP:\")\n",
    "print(\"Secure random OTP is\", otp)"
   ]
  },
  {
   "cell_type": "markdown",
   "metadata": {
    "id": "sRajmF4JGc9C"
   },
   "source": [
    "4.\tPick a random character from a given string such as \"Simulation and modeling\""
   ]
  },
  {
   "cell_type": "code",
   "execution_count": 6,
   "metadata": {},
   "outputs": [
    {
     "name": "stdout",
     "output_type": "stream",
     "text": [
      "Random character from the given string:\n",
      "Random char is o\n"
     ]
    }
   ],
   "source": [
    "import random\n",
    "\n",
    "\n",
    "text = \"Simulation and modeling\"\n",
    "\n",
    "# Picking a random charecter\n",
    "random_char = random.choice(text)\n",
    "\n",
    "print(\"Random character from the given string:\")\n",
    "print(\"Random char is\", random_char)\n"
   ]
  },
  {
   "cell_type": "markdown",
   "metadata": {
    "id": "LWo72SxJGxOd"
   },
   "source": [
    "5. Import string and random module. Generate a string with 5 characters with UPPER case and lower case letters only. No numbers and a special symbol."
   ]
  },
  {
   "cell_type": "code",
   "execution_count": 7,
   "metadata": {},
   "outputs": [
    {
     "name": "stdout",
     "output_type": "stream",
     "text": [
      "YzKNr\n"
     ]
    }
   ],
   "source": [
    "import string\n",
    "import random\n",
    "\n",
    "# Generating random string \n",
    "random_string = ''.join(random.choice(string.ascii_letters) for _ in range(5))\n",
    "\n",
    "\n",
    "print(random_string)\n"
   ]
  },
  {
   "cell_type": "markdown",
   "metadata": {
    "id": "7yXtRN6WHYiu"
   },
   "source": [
    "6. Import string and random module. Generate a Password with length 10 which contains 2 upper case letters, 1 digit, and 1 special symbol. "
   ]
  },
  {
   "cell_type": "code",
   "execution_count": 10,
   "metadata": {},
   "outputs": [
    {
     "name": "stdout",
     "output_type": "stream",
     "text": [
      "the generated password is: >`B>A~-J)V\n"
     ]
    }
   ],
   "source": [
    "import string\n",
    "import random\n",
    "\n",
    "# Generating a random password\n",
    "generatepassword = ''.join(random.choice(string.ascii_uppercase + string.digits + string.punctuation) for _ in range(10))\n",
    "\n",
    "\n",
    "print(\"the generated password is:\",generatepassword)\n"
   ]
  },
  {
   "cell_type": "markdown",
   "metadata": {
    "id": "b5m0Kv-aIONE"
   },
   "source": [
    "7. First generate evenly spaced values within 0 to 9. Give it new shape 3x3. Then randomly permute it."
   ]
  },
  {
   "cell_type": "code",
   "execution_count": 11,
   "metadata": {},
   "outputs": [
    {
     "name": "stdout",
     "output_type": "stream",
     "text": [
      "Original Matrix:\n",
      "[[0 1 2]\n",
      " [3 4 5]\n",
      " [6 7 8]]\n",
      "\n",
      "Permuted Matrix:\n",
      "[[6 7 8]\n",
      " [3 4 5]\n",
      " [0 1 2]]\n"
     ]
    }
   ],
   "source": [
    "import numpy as np\n",
    "\n",
    "values = np.arange(9)\n",
    "\n",
    "matrix = values.reshape(3, 3)\n",
    "\n",
    "\n",
    "permuted_matrix=np.random.permutation(matrix)\n",
    "\n",
    "# Printing the permuted and the original matrix\n",
    "print(\"Original Matrix:\")\n",
    "print(matrix)\n",
    "print(\"\\nPermuted Matrix:\")\n",
    "print(permuted_matrix)\n"
   ]
  },
  {
   "cell_type": "markdown",
   "metadata": {
    "id": "A_qKoz0cJs56"
   },
   "source": [
    "8. Generate random secure token of 64 bytes and random URL"
   ]
  },
  {
   "cell_type": "code",
   "execution_count": 12,
   "metadata": {},
   "outputs": [
    {
     "name": "stdout",
     "output_type": "stream",
     "text": [
      "Token: b'W\\xab\\x92\\xd4u\\x139\\x90\\xbe\\x03[9{\\xd6\\xd6\\xf3\\x934]7\\x05\\x0e\\xad\\xac\\x9fM\\xcb\\xdb\\xf5b\\xf38\"$V\\x9b\\xdd\\xb0\\xa8W\\x85{\\xb9\\xa5\\x17<0\\xc4\\xbc\\xbf\\x85D\\x85\\xca\\xcb\\xc1\\xc5\\xb0\\'\\xcb\\xd6z|\\xd3'\n",
      "URL: https://example.com/8anz-bboZgCOr4M4npoJhuPRtiQ\n"
     ]
    }
   ],
   "source": [
    "import secrets\n",
    "import urllib\n",
    "import string\n",
    "\n",
    "\n",
    "token = secrets.token_bytes(64)\n",
    "\n",
    "\n",
    "url_length=20\n",
    "url = urllib.parse.urljoin('https://example.com/', secrets.token_urlsafe(url_length))\n",
    "\n",
    "# Printing the token and URL\n",
    "print('Token:', token)\n",
    "print('URL:', url)\n"
   ]
  },
  {
   "cell_type": "markdown",
   "metadata": {
    "id": "BbqxqvkAKoco"
   },
   "source": [
    "9. Pick a random number from 1 to 6. Do it in such a way that every time you must get the same random output number(no hard coding numbers). do this 5 times."
   ]
  },
  {
   "cell_type": "code",
   "execution_count": 13,
   "metadata": {},
   "outputs": [
    {
     "name": "stdout",
     "output_type": "stream",
     "text": [
      "5\n",
      "3\n",
      "5\n",
      "1\n",
      "2\n"
     ]
    }
   ],
   "source": [
    "import random\n",
    "\n",
    "# Set the seed of the random number generator\n",
    "random.seed(34)\n",
    "for i in range(5):\n",
    "    random_number = random.randint(1, 6)\n",
    "\n",
    "    \n",
    "    print(random_number)\n"
   ]
  },
  {
   "cell_type": "markdown",
   "metadata": {
    "id": "nKU3_whrK193"
   },
   "source": [
    "10. Write an interactive Python program to play a “guess the  number” game. The computer should think of a random integer between  1 and 20 and the user (player) has to try to guess the number within six  attempts. The program should let the player know if the guess is too high or  too low. \n"
   ]
  },
  {
   "cell_type": "code",
   "execution_count": 14,
   "metadata": {},
   "outputs": [
    {
     "name": "stdout",
     "output_type": "stream",
     "text": [
      "Guess a number between 1 and 20: 3\n",
      "Your guess is high.\n",
      "Guess a number between 1 and 20: 1\n",
      "Congratulations! You guessed the number in 1 guesses!\n"
     ]
    }
   ],
   "source": [
    "import random\n",
    "\n",
    "# Generate a random number between 1 and 20\n",
    "secret_number = random.randint(1, 20)\n",
    "\n",
    "# Initializin the guessing number \n",
    "guesses = 0\n",
    "\n",
    "# creating the loop asper the question \n",
    "while guesses < 6:\n",
    "\n",
    "    #users  entry\n",
    "    guess = int(input(\"Guess a number between 1 and 20: \"))\n",
    "\n",
    "   \n",
    "    if guess == secret_number:\n",
    "        print(\"Congratulations! You guessed the number in\", guesses, \"guesses!\")\n",
    "        break\n",
    "\n",
    "\n",
    "    elif guess < secret_number:\n",
    "        print(\"Your guess is low.\")\n",
    "    else:\n",
    "        print(\"Your guess is high.\")\n",
    "\n",
    " \n",
    "    guesses += 1\n",
    "\n",
    "# If the user runs out of guesses, tell them they lost\n",
    "if guesses == 6:\n",
    "    print(\"You lost! The number was\", secret_number)\n"
   ]
  }
 ],
 "metadata": {
  "colab": {
   "collapsed_sections": [],
   "name": "homework2_solution.ipynb",
   "provenance": []
  },
  "interpreter": {
   "hash": "c98e05168fa63a48dbdd2a4274fef77cd63f6368d59e4488c10e2ff7243bb6c6"
  },
  "kernelspec": {
   "display_name": "Python 3 (ipykernel)",
   "language": "python",
   "name": "python3"
  },
  "language_info": {
   "codemirror_mode": {
    "name": "ipython",
    "version": 3
   },
   "file_extension": ".py",
   "mimetype": "text/x-python",
   "name": "python",
   "nbconvert_exporter": "python",
   "pygments_lexer": "ipython3",
   "version": "3.9.13"
  }
 },
 "nbformat": 4,
 "nbformat_minor": 1
}
